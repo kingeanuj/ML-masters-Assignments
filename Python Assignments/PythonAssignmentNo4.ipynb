{
 "cells": [
  {
   "cell_type": "code",
   "execution_count": 1,
   "metadata": {},
   "outputs": [
    {
     "name": "stdout",
     "output_type": "stream",
     "text": [
      "Enter the sides of a triangle eg(3,4,5):6,8,10\n",
      "Area of triangle  24.0\n"
     ]
    }
   ],
   "source": [
    "\"\"\"\n",
    "1.1 Write a Python Program(with class concepts) to find the area of the triangle using the below\n",
    "formula.\n",
    "area = (s*(s-a)*(s-b)*(s-c)) ** 0.5\n",
    "Function to take the length of the sides of triangle from user should be defined in the parent\n",
    "class and function to calculate the area should be defined in subclass.\n",
    "\"\"\"\n",
    "\n",
    "class Triangle:\n",
    "    def __init__(self,sides):\n",
    "        self.sides = sides\n",
    "        self.a= int(sides.split(',')[0])\n",
    "        self.b= int(sides.split(',')[1])\n",
    "        self.c= int(sides.split(',')[2])\n",
    "\n",
    "class Area(Triangle):\n",
    "    def calculate_Area(self):\n",
    "        s =(self.a+self.b+self.c)/2 \n",
    "        area = (s*(s-self.a)*(s-self.b)*(s-self.c)) ** 0.5\n",
    "        print(\"Area of triangle \", area)\n",
    "        \n",
    "    \n",
    "sides = input(\"Enter the sides of a triangle eg(3,4,5):\")    \n",
    "obj = Area(sides)\n",
    "obj.calculate_Area()"
   ]
  },
  {
   "cell_type": "code",
   "execution_count": 2,
   "metadata": {},
   "outputs": [
    {
     "name": "stdout",
     "output_type": "stream",
     "text": [
      "['tanuja', 'anushka', 'msdhoni']\n"
     ]
    }
   ],
   "source": [
    "\"\"\"\n",
    "1.2 Write a function filter_long_words() that takes a list of words and an integer n and returns\n",
    "the list of words that are longer than n.\n",
    "\"\"\"\n",
    "\n",
    "def filter_long_words(l, n):\n",
    "    l2 = [i for i in l if len(i)>n]\n",
    "    return l2\n",
    "\n",
    "l = [\"anuj\",\"anuja\",\"tanuj\",\"tanuja\",\"rohit\",\"virat\",\"anushka\",\"msdhoni\"]\n",
    "n = 5\n",
    "print(filter_long_words(l,n))"
   ]
  },
  {
   "cell_type": "code",
   "execution_count": 3,
   "metadata": {},
   "outputs": [
    {
     "name": "stdout",
     "output_type": "stream",
     "text": [
      "[2, 3, 4]\n"
     ]
    }
   ],
   "source": [
    "\"\"\"\n",
    "2.1 Write a Python program using function concept that maps list of words into a list of integers\n",
    "representing the lengths of the corresponding words.\n",
    "Hint: If a list [ ab,cde,erty] is passed on to the python function output should come as [2,3,4]\n",
    "Here 2,3 and 4 are the lengths of the words in the list.\n",
    "\"\"\"\n",
    "\n",
    "\n",
    "def find_lengths(word):\n",
    "    return len(word)\n",
    "\n",
    "l = [\"ab\",\"cde\",\"erty\"]\n",
    "print(list(map(find_lengths, l)))"
   ]
  },
  {
   "cell_type": "code",
   "execution_count": 4,
   "metadata": {},
   "outputs": [
    {
     "name": "stdout",
     "output_type": "stream",
     "text": [
      "Enter a character: e\n",
      "It is a vowel\n"
     ]
    }
   ],
   "source": [
    "\"\"\"\n",
    "2.2 Write a Python function which takes a character (i.e. a string of length 1) and returns True if\n",
    "it is a vowel, False otherwise.\n",
    "\"\"\"\n",
    "\n",
    "def is_vowel(char):\n",
    "    if char in [\"a\",\"e\",\"i\",\"o\",\"u\",\"A\",\"E\",\"I\",\"O\",\"U\"]:\n",
    "        return True\n",
    "    else:\n",
    "        return False\n",
    "    \n",
    "char = input(\"Enter a character: \")\n",
    "if is_vowel(char):\n",
    "    print(\"It is a vowel\")\n",
    "else:\n",
    "    print(\"It is not a vowel\")"
   ]
  },
  {
   "cell_type": "code",
   "execution_count": null,
   "metadata": {},
   "outputs": [],
   "source": []
  }
 ],
 "metadata": {
  "kernelspec": {
   "display_name": "Python 3",
   "language": "python",
   "name": "python3"
  },
  "language_info": {
   "codemirror_mode": {
    "name": "ipython",
    "version": 3
   },
   "file_extension": ".py",
   "mimetype": "text/x-python",
   "name": "python",
   "nbconvert_exporter": "python",
   "pygments_lexer": "ipython3",
   "version": "3.7.6"
  }
 },
 "nbformat": 4,
 "nbformat_minor": 4
}
